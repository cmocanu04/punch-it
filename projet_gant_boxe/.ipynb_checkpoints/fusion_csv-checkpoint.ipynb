{
 "cells": [
  {
   "cell_type": "code",
   "execution_count": 6,
   "id": "7359c6a4",
   "metadata": {},
   "outputs": [
    {
     "name": "stdout",
     "output_type": "stream",
     "text": [
      "Début de la fusion avec pandas vers 'joblib/Eldin/dataset_entrainement_toutes_sessions.csv'...\n",
      " - Fichier 'joblib/Eldin/dataset_entrainement_knn_ses1.csv' lu avec succès.\n",
      " - Fichier 'joblib/Eldin/dataset_entrainement_knn_ses2.csv' lu avec succès.\n",
      " - Fichier 'joblib/Eldin/dataset_entrainement_knn_ses3.csv' lu avec succès.\n",
      "\n",
      "Fusion terminée ! Le fichier 'joblib/Eldin/dataset_entrainement_toutes_sessions.csv' a été créé.\n"
     ]
    }
   ],
   "source": [
    "import pandas as pd\n",
    "import os # Utilisé pour vérifier si le fichier existe\n",
    "\n",
    "# --- Configuration ---\n",
    "# Liste des fichiers CSV à fusionner\n",
    "fichiers_entree = ['joblib/Eldin/dataset_entrainement_knn_ses1.csv', 'joblib/Eldin/dataset_entrainement_knn_ses2.csv', 'joblib/Eldin/dataset_entrainement_knn_ses3.csv']\n",
    "# Nom du fichier de sortie\n",
    "fichier_sortie = 'joblib/Eldin/dataset_entrainement_toutes_sessions.csv'\n",
    "\n",
    "# --- Logique de fusion ---\n",
    "print(f\"Début de la fusion avec pandas vers '{fichier_sortie}'...\")\n",
    "\n",
    "# Crée une liste pour stocker chaque DataFrame (la représentation d'un CSV en pandas)\n",
    "liste_dataframes = []\n",
    "\n",
    "# Boucle sur chaque nom de fichier\n",
    "for nom_fichier in fichiers_entree:\n",
    "    if os.path.exists(nom_fichier):\n",
    "        # Lit le fichier CSV et l'ajoute à la liste\n",
    "        df = pd.read_csv(nom_fichier)\n",
    "        liste_dataframes.append(df)\n",
    "        print(f\" - Fichier '{nom_fichier}' lu avec succès.\")\n",
    "    else:\n",
    "        print(f\"AVERTISSEMENT : Le fichier '{nom_fichier}' n'a pas été trouvé et sera ignoré.\")\n",
    "\n",
    "# S'assure qu'au moins un fichier a été lu\n",
    "if not liste_dataframes:\n",
    "    print(\"Aucun fichier n'a été lu. La fusion est annulée.\")\n",
    "else:\n",
    "    # Concatène (fusionne) tous les DataFrames de la liste en un seul\n",
    "    # ignore_index=True réinitialise l'index du fichier final\n",
    "    df_fusionne = pd.concat(liste_dataframes, ignore_index=True)\n",
    "\n",
    "    # Sauvegarde le DataFrame fusionné dans un nouveau fichier CSV\n",
    "    # index=False empêche pandas d'écrire une colonne d'index dans le CSV\n",
    "    df_fusionne.to_csv(fichier_sortie, index=False, encoding='utf-8')\n",
    "\n",
    "    print(f\"\\nFusion terminée ! Le fichier '{fichier_sortie}' a été créé.\")"
   ]
  },
  {
   "cell_type": "code",
   "execution_count": null,
   "id": "fc74b7e7",
   "metadata": {},
   "outputs": [],
   "source": []
  }
 ],
 "metadata": {
  "kernelspec": {
   "display_name": "Python 3 (ipykernel)",
   "language": "python",
   "name": "python3"
  },
  "language_info": {
   "codemirror_mode": {
    "name": "ipython",
    "version": 3
   },
   "file_extension": ".py",
   "mimetype": "text/x-python",
   "name": "python",
   "nbconvert_exporter": "python",
   "pygments_lexer": "ipython3",
   "version": "3.9.7"
  }
 },
 "nbformat": 4,
 "nbformat_minor": 5
}
